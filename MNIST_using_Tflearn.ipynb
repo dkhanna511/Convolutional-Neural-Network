{
 "cells": [
  {
   "cell_type": "markdown",
   "metadata": {},
   "source": [
    "## Importing Libraries"
   ]
  },
  {
   "cell_type": "code",
   "execution_count": 2,
   "metadata": {},
   "outputs": [],
   "source": [
    "\n",
    "import tflearn\n",
    "from tflearn.layers.core import input_data, dropout, fully_connected\n",
    "from tflearn.layers.conv import conv_2d, max_pool_2d\n",
    "from tflearn.layers.estimator import regression\n",
    "import matplotlib.pyplot as plt"
   ]
  },
  {
   "cell_type": "markdown",
   "metadata": {},
   "source": [
    "## Importing Dataset"
   ]
  },
  {
   "cell_type": "code",
   "execution_count": 3,
   "metadata": {},
   "outputs": [],
   "source": [
    "\n",
    "#importing MNIST dataset\n",
    "from tflearn.datasets import mnist"
   ]
  },
  {
   "cell_type": "markdown",
   "metadata": {},
   "source": [
    "## Loading Dataset"
   ]
  },
  {
   "cell_type": "code",
   "execution_count": 4,
   "metadata": {},
   "outputs": [
    {
     "name": "stdout",
     "output_type": "stream",
     "text": [
      "Extracting mnist/train-images-idx3-ubyte.gz\n",
      "Extracting mnist/train-labels-idx1-ubyte.gz\n",
      "Extracting mnist/t10k-images-idx3-ubyte.gz\n",
      "Extracting mnist/t10k-labels-idx1-ubyte.gz\n"
     ]
    }
   ],
   "source": [
    "\n",
    "X, Y, X_test, Y_test= mnist.load_data(one_hot=True)\n"
   ]
  },
  {
   "cell_type": "markdown",
   "metadata": {},
   "source": [
    "## Reshaping the data"
   ]
  },
  {
   "cell_type": "code",
   "execution_count": 5,
   "metadata": {},
   "outputs": [],
   "source": [
    "\n",
    "X=X.reshape([-1,28,28,1])\n",
    "X_test=X_test.reshape([-1,28,28,1])\n",
    "\n",
    "network=input_data(shape=[None, 28, 28, 1],name='Input')\n"
   ]
  },
  {
   "cell_type": "markdown",
   "metadata": {},
   "source": [
    "## Making the Convolution Network Layers"
   ]
  },
  {
   "cell_type": "code",
   "execution_count": 6,
   "metadata": {},
   "outputs": [
    {
     "name": "stdout",
     "output_type": "stream",
     "text": [
      "WARNING:tensorflow:From /home/dheeraj/.local/lib/python3.5/site-packages/tflearn/initializations.py:119: UniformUnitScaling.__init__ (from tensorflow.python.ops.init_ops) is deprecated and will be removed in a future version.\n",
      "Instructions for updating:\n",
      "Use tf.initializers.variance_scaling instead with distribution=uniform to get equivalent behavior.\n",
      "WARNING:tensorflow:From /home/dheeraj/.local/lib/python3.5/site-packages/tflearn/objectives.py:66: calling reduce_sum (from tensorflow.python.ops.math_ops) with keep_dims is deprecated and will be removed in a future version.\n",
      "Instructions for updating:\n",
      "keep_dims is deprecated, use keepdims instead\n"
     ]
    }
   ],
   "source": [
    "\n",
    "network=conv_2d(network, 32, 2, activation='relu')\n",
    "network=max_pool_2d(network, 2)\n",
    "\n",
    "network=conv_2d(network, 64, 2, activation='relu')\n",
    "network=max_pool_2d(network, 2)\n",
    "\n",
    "network=fully_connected(network, 1024, activation='relu')\n",
    "network=dropout(network, 0.5)\n",
    "\n",
    "network=fully_connected(network, 10, activation='softmax')\n",
    "\n",
    "network=regression(network, optimizer='adam', loss='categorical_crossentropy', learning_rate=0.001)\n",
    "\n",
    "model=tflearn.DNN(network, tensorboard_verbose=0)\n"
   ]
  },
  {
   "cell_type": "markdown",
   "metadata": {},
   "source": [
    "## Training the data"
   ]
  },
  {
   "cell_type": "code",
   "execution_count": 7,
   "metadata": {},
   "outputs": [
    {
     "name": "stdout",
     "output_type": "stream",
     "text": [
      "Training Step: 4299  | total loss: \u001b[1m\u001b[32m0.01129\u001b[0m\u001b[0m | time: 114.525s\n",
      "| Adam | epoch: 005 | loss: 0.01129 - acc: 0.9978 -- iter: 54976/55000\n",
      "Training Step: 4300  | total loss: \u001b[1m\u001b[32m0.01098\u001b[0m\u001b[0m | time: 119.226s\n",
      "| Adam | epoch: 005 | loss: 0.01098 - acc: 0.9980 | val_loss: 0.03012 - val_acc: 0.9907 -- iter: 55000/55000\n",
      "--\n"
     ]
    }
   ],
   "source": [
    "\n",
    "\n",
    "model.fit(X, Y, n_epoch=5, shuffle=True, validation_set=(X_test, Y_test),snapshot_step=500, show_metric=True, run_id='mnist')\n",
    "\n"
   ]
  }
 ],
 "metadata": {
  "kernelspec": {
   "display_name": "Python 3",
   "language": "python",
   "name": "python3"
  },
  "language_info": {
   "codemirror_mode": {
    "name": "ipython",
    "version": 3
   },
   "file_extension": ".py",
   "mimetype": "text/x-python",
   "name": "python",
   "nbconvert_exporter": "python",
   "pygments_lexer": "ipython3",
   "version": "3.5.2"
  }
 },
 "nbformat": 4,
 "nbformat_minor": 2
}
