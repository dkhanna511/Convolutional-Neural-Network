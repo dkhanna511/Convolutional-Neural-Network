{
 "cells": [
  {
   "cell_type": "markdown",
   "metadata": {},
   "source": [
    "## Importing Libraries\n"
   ]
  },
  {
   "cell_type": "code",
   "execution_count": 1,
   "metadata": {},
   "outputs": [],
   "source": [
    "import tensorflow as tf\n",
    "import numpy as np\n",
    "#import matplotlib.pyplot as plt\n",
    "from tensorflow.examples.tutorials.mnist import input_data\n"
   ]
  },
  {
   "cell_type": "markdown",
   "metadata": {},
   "source": [
    "## Importing Data"
   ]
  },
  {
   "cell_type": "code",
   "execution_count": 2,
   "metadata": {},
   "outputs": [
    {
     "name": "stdout",
     "output_type": "stream",
     "text": [
      "WARNING:tensorflow:From <ipython-input-2-8fff32bca56b>:1: read_data_sets (from tensorflow.contrib.learn.python.learn.datasets.mnist) is deprecated and will be removed in a future version.\n",
      "Instructions for updating:\n",
      "Please use alternatives such as official/mnist/dataset.py from tensorflow/models.\n",
      "WARNING:tensorflow:From /home/dheeraj/.local/lib/python3.5/site-packages/tensorflow/contrib/learn/python/learn/datasets/mnist.py:260: maybe_download (from tensorflow.contrib.learn.python.learn.datasets.base) is deprecated and will be removed in a future version.\n",
      "Instructions for updating:\n",
      "Please write your own downloading logic.\n",
      "WARNING:tensorflow:From /home/dheeraj/.local/lib/python3.5/site-packages/tensorflow/contrib/learn/python/learn/datasets/mnist.py:262: extract_images (from tensorflow.contrib.learn.python.learn.datasets.mnist) is deprecated and will be removed in a future version.\n",
      "Instructions for updating:\n",
      "Please use tf.data to implement this functionality.\n",
      "Extracting MNIST_data/train-images-idx3-ubyte.gz\n",
      "WARNING:tensorflow:From /home/dheeraj/.local/lib/python3.5/site-packages/tensorflow/contrib/learn/python/learn/datasets/mnist.py:267: extract_labels (from tensorflow.contrib.learn.python.learn.datasets.mnist) is deprecated and will be removed in a future version.\n",
      "Instructions for updating:\n",
      "Please use tf.data to implement this functionality.\n",
      "Extracting MNIST_data/train-labels-idx1-ubyte.gz\n",
      "WARNING:tensorflow:From /home/dheeraj/.local/lib/python3.5/site-packages/tensorflow/contrib/learn/python/learn/datasets/mnist.py:110: dense_to_one_hot (from tensorflow.contrib.learn.python.learn.datasets.mnist) is deprecated and will be removed in a future version.\n",
      "Instructions for updating:\n",
      "Please use tf.one_hot on tensors.\n",
      "Extracting MNIST_data/t10k-images-idx3-ubyte.gz\n",
      "Extracting MNIST_data/t10k-labels-idx1-ubyte.gz\n",
      "WARNING:tensorflow:From /home/dheeraj/.local/lib/python3.5/site-packages/tensorflow/contrib/learn/python/learn/datasets/mnist.py:290: DataSet.__init__ (from tensorflow.contrib.learn.python.learn.datasets.mnist) is deprecated and will be removed in a future version.\n",
      "Instructions for updating:\n",
      "Please use alternatives such as official/mnist/dataset.py from tensorflow/models.\n"
     ]
    }
   ],
   "source": [
    "mnist=input_data.read_data_sets(\"MNIST_data/\", one_hot=True)\n"
   ]
  },
  {
   "cell_type": "markdown",
   "metadata": {},
   "source": [
    "## Defining Placeholder"
   ]
  },
  {
   "cell_type": "code",
   "execution_count": 3,
   "metadata": {},
   "outputs": [],
   "source": [
    "\n",
    "no_classes=10\n",
    "batch_size=128\n",
    "\n",
    "x=tf.placeholder(tf.float32,[None, 784])\n",
    "y=tf.placeholder(tf.float32,[None, 10])\n"
   ]
  },
  {
   "cell_type": "markdown",
   "metadata": {},
   "source": [
    "## Function Definitions"
   ]
  },
  {
   "cell_type": "markdown",
   "metadata": {},
   "source": [
    "### Convolution Function"
   ]
  },
  {
   "cell_type": "code",
   "execution_count": 4,
   "metadata": {},
   "outputs": [],
   "source": [
    "\n",
    "#user defined fuction to return output after performing convolution.\n",
    "\n",
    "def conv2d(x, W):\n",
    "    return tf.nn.conv2d(x, W, strides=[1,1,1,1], padding='SAME')\n",
    "\n"
   ]
  },
  {
   "cell_type": "markdown",
   "metadata": {},
   "source": [
    "### Maxpooling Function\n",
    "\n",
    "\n",
    "user defined fucntion to perform maxpooling after convolution and also to pass it through the activation\n",
    "and reurning the final output\n"
   ]
  },
  {
   "cell_type": "code",
   "execution_count": null,
   "metadata": {},
   "outputs": [],
   "source": [
    "\n",
    "def maxpool2d(x):\n",
    "    maxpool= tf.nn.max_pool(x, ksize=[1,2,2,1] , strides=[1,2,2,1], padding='SAME')\n",
    "    return (maxpool)\n"
   ]
  },
  {
   "cell_type": "markdown",
   "metadata": {},
   "source": [
    "## Neural Network Function"
   ]
  },
  {
   "cell_type": "code",
   "execution_count": null,
   "metadata": {},
   "outputs": [],
   "source": [
    "\n",
    "#now we'll define the neural network model\n",
    "'''In this model we are giving what actually happens inside \n",
    "    the neural network during the feed forward step of one epoch'''\n",
    "\n",
    "def neural_net(x):\n",
    "    weights={'w_conv1':tf.Variable(tf.random_normal([5,5,1,32])),\n",
    "             'w_conv2':tf.Variable(tf.random_normal([5,5,32,64])),\n",
    "             'w_fc':tf.Variable(tf.random_normal([7*7*64, 1024])),\n",
    "             'out':tf.Variable(tf.random_normal([1024, no_classes]))}                        \n",
    "                    \n",
    "                                          \n",
    "    biases=  {'b_conv1': tf.Variable(tf.random_normal([32])),\n",
    "              'b_conv2': tf.Variable(tf.random_normal([64])),\n",
    "              'b_fc': tf.Variable(tf.random_normal([1024])),\n",
    "              'out': tf.Variable(tf.random_normal([no_classes]))}\n",
    "   \n",
    "\n",
    "    x=tf.reshape(x, shape=[-1,28,28,1])\n",
    "    \n",
    "    conv1=conv2d(x, weights['w_conv1'])\n",
    "    conv1=maxpool2d(conv1)\n",
    "    \n",
    "    conv2=conv2d(conv1, weights['w_conv2'])\n",
    "    conv2=maxpool2d(conv2)\n",
    "    \n",
    "    fc=tf.reshape(conv2, [-1, 7*7*64])\n",
    "    fc=tf.nn.relu(tf.matmul(fc, weights['w_fc'])+ biases['b_fc'])\n",
    "    \n",
    "    output=tf.matmul(fc, weights['out'])+ biases['out']\n",
    "    \n",
    "    return output\n"
   ]
  },
  {
   "cell_type": "markdown",
   "metadata": {},
   "source": [
    "## Function for Feed Forward and BackProp"
   ]
  },
  {
   "cell_type": "code",
   "execution_count": null,
   "metadata": {},
   "outputs": [],
   "source": [
    "\n",
    "'''in this function we are working with minimising cross entropy and the application of \n",
    "gradient descent after each epoch'''\n",
    "\n",
    "def convolutional_neural_network(x):\n",
    "    prediction=neural_net(x)\n",
    "    #cost = tf.square(y - prediction, name=\"cost\")\n",
    "    cost=tf.reduce_mean(tf.nn.softmax_cross_entropy_with_logits(logits=prediction,labels= y))\n",
    "    optimizer=tf.train.AdamOptimizer().minimize(cost)\n",
    "    \n",
    "    no_epochs=5\n",
    "    \n",
    "    with tf.Session() as sess:\n",
    "        sess.run(tf.global_variables_initializer())\n",
    "        \n",
    "        #training the network\n",
    "        for epoch in range(no_epochs):\n",
    "            epoch_loss=0\n",
    "            for hello in range(int(mnist.train.num_examples/batch_size)):\n",
    "                epoch_x,epoch_y=mnist.train.next_batch(batch_size)\n",
    "                _,c=sess.run([optimizer, cost], feed_dict={x:epoch_x, y:epoch_y})#here c means cost\n",
    "                epoch_loss+=c              \n",
    "            print('Epoch', epoch, 'completed out of', no_epochs, 'loss:', epoch_loss)\n",
    "            \n",
    "            #this lin compares the data with the values or output and apply backpropogation\n",
    "        correct=tf.equal(tf.argmax(prediction, 1), tf.argmax(y,1))  \n",
    "        accuracy=tf.reduce_mean(tf.cast(correct, tf.float32))\n",
    "        print('Accuracy:',accuracy.eval({x:mnist.test.images, y:mnist.test.labels}))\n"
   ]
  },
  {
   "cell_type": "markdown",
   "metadata": {},
   "source": [
    "## Calling the Feedforward function for number of epochs"
   ]
  },
  {
   "cell_type": "code",
   "execution_count": null,
   "metadata": {},
   "outputs": [
    {
     "name": "stdout",
     "output_type": "stream",
     "text": [
      "WARNING:tensorflow:From <ipython-input-7-1c7d759fb9c2>:8: softmax_cross_entropy_with_logits (from tensorflow.python.ops.nn_ops) is deprecated and will be removed in a future version.\n",
      "Instructions for updating:\n",
      "\n",
      "Future major versions of TensorFlow will allow gradients to flow\n",
      "into the labels input on backprop by default.\n",
      "\n",
      "See `tf.nn.softmax_cross_entropy_with_logits_v2`.\n",
      "\n",
      "Epoch 0 completed out of 5 loss: 1643161.6977844238\n",
      "Epoch 1 completed out of 5 loss: 361220.0653076172\n",
      "Epoch 2 completed out of 5 loss: 210321.43213272095\n",
      "Epoch 3 completed out of 5 loss: 134827.7170829894\n",
      "Epoch 4 completed out of 5 loss: 85114.86921691895\n"
     ]
    }
   ],
   "source": [
    "        \n",
    "convolutional_neural_network(x)       "
   ]
  }
 ],
 "metadata": {
  "kernelspec": {
   "display_name": "Python 3",
   "language": "python",
   "name": "python3"
  },
  "language_info": {
   "codemirror_mode": {
    "name": "ipython",
    "version": 3
   },
   "file_extension": ".py",
   "mimetype": "text/x-python",
   "name": "python",
   "nbconvert_exporter": "python",
   "pygments_lexer": "ipython3",
   "version": "3.5.2"
  }
 },
 "nbformat": 4,
 "nbformat_minor": 2
}
